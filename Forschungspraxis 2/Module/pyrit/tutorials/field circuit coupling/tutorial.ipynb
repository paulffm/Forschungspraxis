{
 "cells": [
  {
   "cell_type": "markdown",
   "id": "2fee9521",
   "metadata": {},
   "source": [
    "# Tutorial for field circuit coupling"
   ]
  },
  {
   "cell_type": "markdown",
   "id": "00fda472",
   "metadata": {},
   "source": [
    "<span style=\"color:red\">Remark: To run this tutorial, the package `schemdraw` needs to be installed. It can be installed with:</span>\n",
    "```shell\n",
    "pip install schemdraw\n",
    "```"
   ]
  },
  {
   "cell_type": "markdown",
   "id": "1a1e3bcf",
   "metadata": {},
   "source": [
    "In this tutorial, an axisymmetric pot inductor is simulated. A coil is wound around an iron core. For the coil there are two different conductor models. First, the single winding sare resolved and a [solid conductor model](#Solid-conductor-model) is used. After that, all wires are combined for the [stranded conductor model](#Stranded-condutctor-model).  \n",
    "For both conductor models, the system is build, solved and some postprocessing is done.\n",
    "\n",
    "The code is also in the file *tutorial.py* in the same folder as this tutorial.\n",
    "\n",
    "Note that with the current version of field-circuit coupling, only the most simple circuits of a current or a voltage source are supported directly. Field-circuit coupling with more complex circuits (as it is done in the section [Coupling to an external circuit](#Coupling-to-an-external-circuit)) has to be done by hand at the time. \n",
    "\n",
    "<span style=\"color:red\">Note that some cells fail when executed for the first time. Rerunning them is sufficient.</span>"
   ]
  },
  {
   "cell_type": "code",
   "execution_count": null,
   "id": "eed45e07",
   "metadata": {},
   "outputs": [],
   "source": [
    "# General imports\n",
    "import numpy as np\n",
    "import scipy.sparse.linalg as splinalg\n",
    "import gmsh\n",
    "import matplotlib.pyplot as plt\n",
    "from scipy import sparse"
   ]
  },
  {
   "cell_type": "code",
   "execution_count": null,
   "id": "c5c89da2",
   "metadata": {},
   "outputs": [],
   "source": [
    "# Imports from pyrit\n",
    "from pyrit.excitation import FieldCircuitCoupling, StrandedConductor, SolidConductor\n",
    "from pyrit.material import Reluctivity, Resistivity, Conductivity\n",
    "from pyrit.geometry import Geometry\n",
    "\n",
    "# Some functionality is moved to this file for better readibility\n",
    "import tutorial"
   ]
  },
  {
   "cell_type": "markdown",
   "id": "db532f6c",
   "metadata": {},
   "source": [
    "# Solid conductor model\n",
    "We begin with the solid conductor model. As already said, all the single wires are resolved in this model. The wires can be seen in the plots. The problem is defined in the class *CoilInYokeSolid* from the *tutorial* module. "
   ]
  },
  {
   "cell_type": "markdown",
   "id": "921a1077",
   "metadata": {},
   "source": [
    "## Preparation and solving\n",
    "### Create the problem with solid conductors\n",
    "At first, the problem is created and the frequency is set. In the ``create_geometry``-method, there are the (in this case 72) solid conductor models created. They are created with \n",
    "\n",
    "```python\n",
    ">>> SolidConductor(current=1)\n",
    "```\n",
    "\n",
    "So the current is set to $1\\mathrm{A}$ for each winding. "
   ]
  },
  {
   "cell_type": "code",
   "execution_count": null,
   "id": "66184521",
   "metadata": {},
   "outputs": [],
   "source": [
    "coil_in_yoke = tutorial.CoilInYokeSolid(windings=72, mu_r_iron=1000)\n",
    "problem = coil_in_yoke.create_geometry(mesh_size=0.2, mesh_size_conductors=0.0005)\n",
    "\n",
    "shape_function = problem.shape_function\n",
    "mesh = problem.mesh"
   ]
  },
  {
   "cell_type": "code",
   "execution_count": null,
   "id": "3a1d0750",
   "metadata": {},
   "outputs": [],
   "source": [
    "problem.frequency = 1e2"
   ]
  },
  {
   "cell_type": "markdown",
   "id": "f581769b",
   "metadata": {},
   "source": [
    "### Build matrices\n",
    "Then the matrices are build. The *mass_one* matrix is only needed for the postprocessing."
   ]
  },
  {
   "cell_type": "code",
   "execution_count": null,
   "id": "23a68513",
   "metadata": {
    "scrolled": true
   },
   "outputs": [],
   "source": [
    "curlcurl = shape_function.curlcurl_operator(problem.regions, problem.materials, Reluctivity)\n",
    "mass = shape_function.mass_matrix(problem.regions, problem.materials, Conductivity)\n",
    "mass_one = shape_function.mass_matrix(1)\n",
    "rhs = shape_function.load_vector(0)\n",
    "matrix = curlcurl + 1j * problem.omega * mass"
   ]
  },
  {
   "cell_type": "markdown",
   "id": "2e971edc",
   "metadata": {},
   "source": [
    "### Shrink, solve and inflate\n",
    "The system of equation is getting shrunk, then solved and inflated. \n",
    "\n",
    "<span style=\"color:red\">Note that here the shrink and inflate methods from *FieldCircuitCoupling* are used. This is an important difference to simulations without field circuit coupling.</span>"
   ]
  },
  {
   "cell_type": "code",
   "execution_count": null,
   "id": "25e41138",
   "metadata": {},
   "outputs": [],
   "source": [
    "matrix_shrink, rhs_shrink = FieldCircuitCoupling.shrink(matrix, rhs, problem, integration_order=2)\n",
    "solution_shrink = splinalg.spsolve(matrix_shrink.tocsr(), rhs_shrink.tocsr())\n",
    "solution, ids = FieldCircuitCoupling.inflate(solution_shrink, problem)"
   ]
  },
  {
   "cell_type": "markdown",
   "id": "7c7f1d7f",
   "metadata": {},
   "source": [
    "## Postprocessing\n",
    "At first, we determine the voltage drop over all wires by adding the single voltage drops over all wires. Together with the current of 1A, the impedance can be determined."
   ]
  },
  {
   "cell_type": "code",
   "execution_count": null,
   "id": "b337aca9",
   "metadata": {},
   "outputs": [],
   "source": [
    "# Prepare some data\n",
    "nodes_not_on_axis = np.setdiff1d(np.arange(mesh.num_node), mesh.nodes_on_axis)\n",
    "voltage = sum((problem.excitations.get_exci(id).voltage for id in ids))\n",
    "print(f\"Complex voltage: {voltage}\")\n",
    "impedance = voltage / 1\n",
    "resistance = impedance.real\n",
    "inductance = impedance.imag / problem.omega\n",
    "\n",
    "print(f\"Resistance: {resistance}\\nInductance: {inductance}\")"
   ]
  },
  {
   "cell_type": "markdown",
   "id": "48d09e5d",
   "metadata": {},
   "source": [
    "### Current and Voltage over time\n",
    "Here we plot the current and voltage over time (acutally over 3 periods). For that we use the definition of a phasor."
   ]
  },
  {
   "cell_type": "code",
   "execution_count": null,
   "id": "d94a9ca6",
   "metadata": {},
   "outputs": [],
   "source": [
    "# %matplotlib notebook\n",
    "time = np.linspace(0,3/problem.frequency, 200)\n",
    "\n",
    "fig = plt.figure()\n",
    "ax = fig.add_subplot(1,1,1)\n",
    "ax.plot(time,np.cos(problem.omega*time), label='Current')\n",
    "ax.plot(time,np.abs(voltage)*np.cos(problem.omega*time + np.angle(voltage)), label=\"voltage\")\n",
    "ax.legend()"
   ]
  },
  {
   "cell_type": "markdown",
   "id": "4cf43006",
   "metadata": {},
   "source": [
    "### Magnetic flux density\n",
    "Here we plot the magnetic flux density. First, the complex vecvtor **b** is calculated. For plotting, we take the real part of **b** (that means one specific time instance) and then the absulute value of the vector. So in the end we plot the absolute value of the magnetic flux density of one specific time instance."
   ]
  },
  {
   "cell_type": "code",
   "execution_count": null,
   "id": "4c8216e7",
   "metadata": {},
   "outputs": [],
   "source": [
    "# %matplotlib notebook\n",
    "b = shape_function.curl(solution)\n",
    "mesh.plot_scalar_field(np.hypot(np.real(b[:, 0]), np.real(b[:, 1])), title=\"Magnetic flux density\")"
   ]
  },
  {
   "cell_type": "markdown",
   "id": "ac37eb4d",
   "metadata": {},
   "source": [
    "### Plotting electic field and current density\n",
    "The electric field consists of two parts. One part from the eddy currents and one from the field circuit coupling (here denoted as *source*). The former is determined with $$\\vec{E}_\\mathrm{eddy} = -\\jmath\\omega\\vec{A}$$ and the latter is written with the voltage of every wire and the corresponding voltage distribution function: $$\\vec{E}_\\mathrm{source} = \\sum_k V_k\\vec{\\zeta}_k$$. \n",
    "The useage of the methods *project_to_c_vector* and *field_vector* are due to the fact that here edge functions in an axisymmetric coordinate system are used. "
   ]
  },
  {
   "cell_type": "code",
   "execution_count": null,
   "id": "4c3a5aa5",
   "metadata": {
    "scrolled": false
   },
   "outputs": [],
   "source": [
    "# %matplotlib notebook\n",
    "e_eddy = -1j * problem.omega * solution\n",
    "\n",
    "e_source = sparse.coo_matrix((mesh.num_node,1))\n",
    "for key in ids:\n",
    "    fcc: SolidConductor = problem.excitations.get_exci(key)\n",
    "    fcc.compute_voltage_distribution_function(problem)\n",
    "    e_source = e_source + fcc.voltage * fcc.voltage_distribution_function\n",
    "\n",
    "e = e_eddy+e_source.toarray().flatten()\n",
    "j = tutorial.project_to_c_vector(mass @ e, mass_one.tocsr(), mesh.num_node, nodes_not_on_axis)\n",
    "e_field = tutorial.field_vector(e, mesh, nodes_not_on_axis)\n",
    "j_field = tutorial.field_vector(j, mesh, nodes_not_on_axis)\n",
    "mesh.plot_scalar_field(np.real(e_field), title=\"Electric field\")\n",
    "mesh.plot_scalar_field(np.real(j_field), title=\"Current density\")"
   ]
  },
  {
   "cell_type": "markdown",
   "id": "7f9f9cfd",
   "metadata": {},
   "source": [
    "# Stranded condutctor model\n",
    "Now we use the stranded conductor model for the coil. The single strands are no longer resolved by the mesh. Instead of a current flowing in each strand, there is a current flowing on the whole coil domain."
   ]
  },
  {
   "cell_type": "markdown",
   "id": "9e80c434",
   "metadata": {},
   "source": [
    "## Preparing and solving\n",
    "\n",
    "### Create the problem\n",
    "The problem is created and the frequency set. This functionality is in *tutorial*."
   ]
  },
  {
   "cell_type": "code",
   "execution_count": null,
   "id": "3cc01561",
   "metadata": {},
   "outputs": [],
   "source": [
    "coil_in_yoke = tutorial.CoilInYokeStranded(mu_r_iron=1000, fill_factor=0.565486)\n",
    "sc = StrandedConductor(voltage=1e-3, windings=72)\n",
    "problem = coil_in_yoke.create_geometry_stranded(sc)\n",
    "\n",
    "shape_function = problem.shape_function\n",
    "mesh = problem.mesh"
   ]
  },
  {
   "cell_type": "code",
   "execution_count": null,
   "id": "0d54f0f5",
   "metadata": {},
   "outputs": [],
   "source": [
    "problem.frequency = 5e2"
   ]
  },
  {
   "cell_type": "markdown",
   "id": "938b4d47",
   "metadata": {},
   "source": [
    "### Build matrices\n",
    "The needed matrices are build. The *mass_one* and *mass_rho* matrix are only for the postprocessing needed."
   ]
  },
  {
   "cell_type": "code",
   "execution_count": null,
   "id": "79ef0f6c",
   "metadata": {},
   "outputs": [],
   "source": [
    "curlcurl = shape_function.curlcurl_operator(problem.regions, problem.materials, Reluctivity)\n",
    "mass = shape_function.mass_matrix(problem.regions, problem.materials, Conductivity)\n",
    "mass_one = shape_function.mass_matrix(1)\n",
    "mass_rho = shape_function.mass_matrix(problem.regions, problem.materials, Resistivity)\n",
    "rhs = shape_function.load_vector(0)\n",
    "matrix = curlcurl + 1j*problem.omega * mass"
   ]
  },
  {
   "cell_type": "markdown",
   "id": "ae06fe99",
   "metadata": {},
   "source": [
    "### Shrink, solve, inflate\n",
    "The system of equation is getting shrunk, then solved and inflated. \n",
    "\n",
    "<span style=\"color:red\">Note that here the shrink and inflate methods from *FieldCircuitCoupling* are used. This is an important difference to simulations without field circuit coupling.</span>"
   ]
  },
  {
   "cell_type": "code",
   "execution_count": null,
   "id": "85c3ac50",
   "metadata": {},
   "outputs": [],
   "source": [
    "matrix_shrink, rhs_shrink = FieldCircuitCoupling.shrink(matrix, rhs, problem, integration_order=2)\n",
    "solution_shrink = splinalg.spsolve(matrix_shrink.tocsr(), rhs_shrink.tocsr())\n",
    "solution, fcc_ids = FieldCircuitCoupling.inflate(solution_shrink, problem)"
   ]
  },
  {
   "cell_type": "markdown",
   "id": "7bded79d",
   "metadata": {},
   "source": [
    "## Postprocessing\n",
    "At first we determine the current through the coil. Note that this is the curent through one strand. With that we can determine the resistance and the inductance of the coil."
   ]
  },
  {
   "cell_type": "code",
   "execution_count": null,
   "id": "780cc0ee",
   "metadata": {},
   "outputs": [],
   "source": [
    "nodes_not_on_axis = np.setdiff1d(np.arange(mesh.num_node), mesh.nodes_on_axis)\n",
    "\n",
    "current = sc.current\n",
    "voltage = sc.voltage\n",
    "impedance = sc.impedance\n",
    "resistance = sc.resistance\n",
    "inductance = sc.inductance(problem.omega)\n",
    "\n",
    "print(f\"Resistance: {resistance}\\nInductance: {inductance}\")"
   ]
  },
  {
   "cell_type": "markdown",
   "id": "3c2dbdda",
   "metadata": {},
   "source": [
    "### Voltage and current over time"
   ]
  },
  {
   "cell_type": "code",
   "execution_count": null,
   "id": "95871dd6",
   "metadata": {},
   "outputs": [],
   "source": [
    "time = np.linspace(0, 3 / problem.frequency, 200)\n",
    "\n",
    "fig = plt.figure()\n",
    "ax = fig.add_subplot(1, 1, 1)\n",
    "ax.plot(time, sc.voltage*np.cos(problem.omega * time), label='Voltage')\n",
    "ax.plot(time, np.abs(current) * np.cos(problem.omega * time + np.angle(current)), label=\"current\")\n",
    "ax.legend()"
   ]
  },
  {
   "cell_type": "markdown",
   "id": "9e4e2531",
   "metadata": {},
   "source": [
    "### Flux density"
   ]
  },
  {
   "cell_type": "code",
   "execution_count": null,
   "id": "28c039ee",
   "metadata": {},
   "outputs": [],
   "source": [
    "b = shape_function.curl(solution)\n",
    "mesh.plot_scalar_field(np.hypot(np.real(b[:, 0]), np.real(b[:, 1])), title=\"flux density\")"
   ]
  },
  {
   "cell_type": "markdown",
   "id": "a6aee582",
   "metadata": {},
   "source": [
    "### Electric field and current density"
   ]
  },
  {
   "cell_type": "code",
   "execution_count": null,
   "id": "58d0ae5d",
   "metadata": {},
   "outputs": [],
   "source": [
    "e_eddy = -1j * problem.omega * solution\n",
    "j_source = None\n",
    "for fcc in StrandedConductor.iter_fcc(problem.excitations):\n",
    "    fcc.compute_current_distribution_function(problem)\n",
    "    if j_source is None:\n",
    "        j_source = fcc.current * fcc.windings * fcc.current_distribution_function\n",
    "    else:\n",
    "        j_source = j_source + fcc.current * fcc.windings * fcc.current_distribution_function\n",
    "\n",
    "e_source = tutorial.project_to_c_vector(mass_rho @ j_source, mass_one.tocsr(), mesh.num_node, nodes_not_on_axis)\n",
    "\n",
    "e = e_eddy + e_source\n",
    "j = j_source.toarray().flatten() + tutorial.project_to_c_vector(mass @ e, mass_one.tocsr(), mesh.num_node, nodes_not_on_axis)\n",
    "e_field = tutorial.field_vector(e, mesh, nodes_not_on_axis)\n",
    "j_field = tutorial.field_vector(j, mesh, nodes_not_on_axis)\n",
    "\n",
    "mesh.plot_scalar_field(np.real(e_field), title=\"e field\")\n",
    "mesh.plot_scalar_field(np.real(j_field), title=\"j field\")"
   ]
  },
  {
   "cell_type": "markdown",
   "id": "84a51bd1",
   "metadata": {},
   "source": [
    "# Coupling to an external circuit\n",
    "Now we want to show with an example how to couple the field model to an actual circuit. For that, we consider an easy circuit conststing of a resistance in series connection to a parallel connection of a capacitor and an inductance. For the inductance, we use the field model to determine the relation between voltage and current. The circuit is plottet in the next cell."
   ]
  },
  {
   "cell_type": "code",
   "execution_count": null,
   "id": "03d2a3f9",
   "metadata": {},
   "outputs": [],
   "source": [
    "tutorial.draw_circuit()"
   ]
  },
  {
   "cell_type": "markdown",
   "id": "d512e11b",
   "metadata": {},
   "source": [
    "We first define some values:"
   ]
  },
  {
   "cell_type": "code",
   "execution_count": null,
   "id": "7dd6bd1e",
   "metadata": {},
   "outputs": [],
   "source": [
    "resistance = 2  # in ohm\n",
    "capacitance = 1e-6  # in farad"
   ]
  },
  {
   "cell_type": "markdown",
   "id": "179bfaf4",
   "metadata": {},
   "source": [
    "Then we create the problem and get the matrices:"
   ]
  },
  {
   "cell_type": "code",
   "execution_count": null,
   "id": "9bc7673a",
   "metadata": {},
   "outputs": [],
   "source": [
    "windings = 72\n",
    "coil_in_yoke = tutorial.CoilInYokeSolid(windings=windings, mu_r_iron=1000)\n",
    "problem = coil_in_yoke.create_geometry(mesh_size=0.2, mesh_size_conductors=0.005)\n",
    "\n",
    "problem.frequency = 1e4\n",
    "shape_function = problem.shape_function\n",
    "mesh = problem.mesh\n",
    "\n",
    "curlcurl = shape_function.curlcurl_operator(problem.regions, problem.materials, Reluctivity)\n",
    "mass = shape_function.mass_matrix(problem.regions, problem.materials, Conductivity)\n",
    "mass_one = shape_function.mass_matrix(1)\n",
    "rhs = shape_function.load_vector(0)\n",
    "matrix = curlcurl + 1j * problem.omega * mass"
   ]
  },
  {
   "cell_type": "markdown",
   "id": "9a008a81",
   "metadata": {},
   "source": [
    "Having the finite element matrices, we need to also build the circuit matrices and couple them. This is done in the next cell. "
   ]
  },
  {
   "cell_type": "code",
   "execution_count": null,
   "id": "8b9c564d",
   "metadata": {},
   "outputs": [],
   "source": [
    "# Shrink the system\n",
    "solid_conductors = SolidConductor.iter_fcc(problem.excitations)\n",
    "bottom_matrices, right_matrices, diagonal_matrices, rhs_matrices = [], [], [], []\n",
    "\n",
    "for fcc in solid_conductors:\n",
    "    # get the coupling values\n",
    "    # noinspection PyTupleAssignmentBalance\n",
    "    fcc.compute_coupling_values(problem)\n",
    "\n",
    "    bottom_matrices.append(fcc.bottom_coupling_matrix)\n",
    "    right_matrices.append(fcc.right_coupling_matrix)\n",
    "    diagonal_matrices.append(sparse.coo_matrix(np.array([[fcc.coupling_value]])))\n",
    "\n",
    "# Assembly of the matrices\n",
    "bottom_matrix: sparse.csr_matrix = sparse.vstack(bottom_matrices, format='csr')\n",
    "right_matrix: sparse.csr_matrix = sparse.hstack(right_matrices, format='csr')\n",
    "diagonal_matrix = sparse.block_diag(diagonal_matrices, format='csr')\n",
    "rhs_fcc = sparse.coo_matrix((windings, 1))\n",
    "\n",
    "# shrink the system with the sft\n",
    "ret = problem.shape_function.shrink(matrix, rhs, problem, integration_order=2)\n",
    "matrix_shrink_sf, rhs_shrink_sf, indices_not_dof, _, _ = ret\n",
    "\n",
    "# compose the coupling matrices and coupling values with the information from the sft.shrink\n",
    "all_indices = np.arange(rhs.shape[0])\n",
    "# num_fcc = len(bottom_matrices)\n",
    "new_lines = bottom_matrix.shape[0]\n",
    "new_shape = matrix_shrink_sf.shape[0]\n",
    "indices_dof = np.setdiff1d(all_indices, indices_not_dof)\n",
    "bottom_matrix = bottom_matrix[np.ix_(np.arange(new_lines), indices_dof)]\n",
    "right_matrix = right_matrix[np.ix_(indices_dof, np.arange(new_lines))]\n",
    "bottom_matrix.resize((bottom_matrix.shape[0], new_shape))\n",
    "right_matrix.resize((new_shape, right_matrix.shape[1]))\n",
    "\n",
    "# compute the final system\n",
    "matrix_shrink = sparse.bmat([[matrix_shrink_sf, right_matrix],\n",
    "                             [bottom_matrix, diagonal_matrix]])\n",
    "rhs_shrink = sparse.vstack([rhs_shrink_sf, rhs_fcc])"
   ]
  },
  {
   "cell_type": "markdown",
   "id": "dc812d8f",
   "metadata": {},
   "source": [
    "At this point we have to change the matrix and the right-hand side. The following equations also have to be solved: $$ I_s = I_c + I_L\\quad\\Leftrightarrow I_L + \\jmath\\omega CV - \\frac{V_R}{R} = 0$$ $$V + V_R = 0\\,.$$\n",
    "Furthermore, the existing matrix and right-hand side have to be adapted in oder to have the voltage drop over the coil $V$ and the current through the coil $I_L$ in the solution vector. Denoting $V_k$ as the voltage drop over the $k$-th strand, the bottom right part of the final system has the following form: \n",
    "$$\\begin{pmatrix}\n",
    "\t\t\t\\ast &        &      & -1     & 0 & 0 \\\\\n",
    "\t\t\t     & \\ddots &      & \\vdots & 0 & 0 \\\\\n",
    "\t\t\t     &        & \\ast & -1     & 0 & 0 \\\\\n",
    "\t\t\t-1   & \\dots & -1   &  0      & 1 & 0 \\\\\n",
    "\t\t\t0    & 0      & 0    & 1       & \\jmath\\omega C & -\\frac{1}{R} \\\\\n",
    "\t\t\t0    & 0      & 0    & 0       & 1 & 1\n",
    "\t\t\\end{pmatrix}\\begin{pmatrix}V_1\\\\\\vdots\\\\ V_k\\\\ I_L\\\\ V\\\\ V_R\\end{pmatrix} = \\begin{pmatrix}0\\\\0\\\\0\\\\0\\\\0\\\\ V_s\\end{pmatrix}$$"
   ]
  },
  {
   "cell_type": "code",
   "execution_count": null,
   "id": "35db2f04",
   "metadata": {},
   "outputs": [],
   "source": [
    "old_size = matrix_shrink.shape[0]\n",
    "bottom_matrix = sparse.coo_matrix((-1*np.ones(windings),(np.zeros(windings),np.arange(old_size-windings,old_size))),shape=(3,old_size))\n",
    "right_matrix = bottom_matrix.transpose()\n",
    "bottom_right_matrix = np.array([[0,1,0],\n",
    "                                [1, 1j*problem.omega*capacitance, -1/resistance],\n",
    "                                [0,1,1]])\n",
    "bottom_right_matrix = sparse.coo_matrix(bottom_right_matrix)\n",
    "\n",
    "new_matrix = sparse.hstack([sparse.vstack([matrix_shrink,bottom_matrix]),sparse.vstack([right_matrix,bottom_right_matrix])],format='csr')\n",
    "\n",
    "new_rhs = rhs_shrink.tocsr()\n",
    "new_rhs = sparse.vstack([new_rhs,sparse.coo_matrix(([1],([2],[0])))],format='csr')"
   ]
  },
  {
   "cell_type": "markdown",
   "id": "7653005f",
   "metadata": {},
   "source": [
    "Now, the system can be solved, the solution extracted and the postprocessed data be plottet:"
   ]
  },
  {
   "cell_type": "code",
   "execution_count": null,
   "id": "d6512028",
   "metadata": {},
   "outputs": [],
   "source": [
    "solution = splinalg.spsolve(new_matrix,new_rhs)\n",
    "\n",
    "I_L = solution[-3]\n",
    "V = solution[-2]\n",
    "V_R = solution[-1]\n",
    "\n",
    "I_s = V_R/resistance\n",
    "I_c = I_s - I_L\n",
    "\n",
    "# solution, solution_values = FieldCircuitCoupling.inflate(solution[:-3], problem)\n",
    "\n",
    "impedance = V/I_L\n",
    "resistance = impedance.real\n",
    "inductance = impedance.imag / problem.omega\n",
    "print(f\"Resistance: {resistance}\\tInductance: {inductance}\")\n",
    "\n",
    "print(f\"Voltages:\\nTotal voltage: {1}\\nVoltage over R: {V_R}\\nVoltage over L,C: {V}\\n\")\n",
    "print(f\"Currents:\\nTotal current: {I_s}\\nCurrent through L: {I_L}\\nCurrent through C: {I_c}\\n\")"
   ]
  },
  {
   "cell_type": "code",
   "execution_count": null,
   "id": "cba54084",
   "metadata": {},
   "outputs": [],
   "source": [
    "time = np.linspace(0, 3 / problem.frequency, 200)\n",
    "\n",
    "fig = plt.figure()\n",
    "ax = fig.add_subplot(1, 1, 1)\n",
    "ax.plot(time, np.cos(problem.omega * time), label=r'$V_s$')\n",
    "ax.plot(time, np.abs(V_R) * np.cos(problem.omega * time + np.angle(V_R)), label=r\"$V_R$\")\n",
    "ax.plot(time, np.abs(V) * np.cos(problem.omega * time + np.angle(V)), label=r\"$V$\")\n",
    "ax.set_title('Voltages')\n",
    "ax.legend()\n",
    "\n",
    "fig = plt.figure()\n",
    "ax = fig.add_subplot(1, 1, 1)\n",
    "ax.plot(time, np.abs(I_s) * np.cos(problem.omega * time + np.angle(I_s)), label=r\"$I_s$\")\n",
    "ax.plot(time, np.abs(I_c) * np.cos(problem.omega * time + np.angle(I_c)), label=r\"$I_c$\")\n",
    "ax.plot(time, np.abs(I_L) * np.cos(problem.omega * time + np.angle(I_L)), label=r\"$I_L$\")\n",
    "ax.set_title('Currents')\n",
    "ax.legend()"
   ]
  },
  {
   "cell_type": "code",
   "execution_count": null,
   "id": "56737c34",
   "metadata": {},
   "outputs": [],
   "source": []
  }
 ],
 "metadata": {
  "kernelspec": {
   "display_name": "Python 3",
   "language": "python",
   "name": "python3"
  },
  "language_info": {
   "codemirror_mode": {
    "name": "ipython",
    "version": 3
   },
   "file_extension": ".py",
   "mimetype": "text/x-python",
   "name": "python",
   "nbconvert_exporter": "python",
   "pygments_lexer": "ipython3",
   "version": "3.8.10"
  }
 },
 "nbformat": 4,
 "nbformat_minor": 5
}
