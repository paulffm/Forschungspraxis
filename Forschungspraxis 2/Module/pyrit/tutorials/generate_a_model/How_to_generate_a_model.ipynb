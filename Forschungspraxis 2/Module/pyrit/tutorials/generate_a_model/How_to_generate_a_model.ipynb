{
 "cells": [
  {
   "cell_type": "markdown",
   "metadata": {},
   "source": [
    "# Tutorial Model Generation"
   ]
  },
  {
   "cell_type": "markdown",
   "metadata": {},
   "source": [
    "**Pyrit’s** modeling and simulation workflow is organized in the following models: *problem definition, problem solution and post-processing*. In the first step, i.e., *problem definition*, the geometry is defined using the open source software *Gmsh*. \n",
    "**Pyrit** offers several ways ways to generate a model: The user can [import a step file](#Approach-1:-Model-definition-based-on-STEP-file), create a geometry [using **Pyrit's** *geometry* package](#Approach-2:-Model-definition-based-on-Pyrit), or [import an already existing *Gmsh* file](#Approach-3:-Model-definition-based-on-geo-file) (`*.geo`-file). \n",
    "\n",
    "The \"best\" way always depends on the already available files and the complexity of the model. This tutorial shows the three different model generation approaches. First, we show how to generate a model based on an existing STEP file (`*.stp`-file). Second, the model is created based on an existing geo file, and, thirdly, we generate the geometry using the Pyrit *geometry* package."
   ]
  },
  {
   "cell_type": "markdown",
   "metadata": {},
   "source": [
    "## Approach 1: Model definition based on STEP file\n",
    "\n",
    "### A) Import the geometry data to Gmsh\n",
    "\n",
    "Often, the geometry and topology information, respectively, of a simulation problem  already exists, e.g. in a different simulation software like *CST* or *COMSOL* or in a CAD file format. Most software environments offer the export of the geometry data in the STEP file format. This section shows how to import and create a geometry in **Pyrit** data based on a STEP file.\n",
    "\n",
    "Note that e.g. in CST, a STEP file can be generated via ``Export ->3D Files->3D General ->STEP file``."
   ]
  },
  {
   "cell_type": "markdown",
   "metadata": {},
   "source": [
    "First, we check the geometry visually in *Gmsh* and adapt the geometry. The following command opens the STEP file in GMSH (before: set GMSH as program to open STEP files.)\n"
   ]
  },
  {
   "cell_type": "code",
   "execution_count": null,
   "metadata": {},
   "outputs": [],
   "source": [
    "from pyrit.geometry import Geometry\n",
    "import gmsh\n",
    "geo = Geometry(\"\",show_gui=True)\n",
    "with geo:\n",
    "    gmsh.merge('Tutorial_STEP.stp')"
   ]
  },
  {
   "cell_type": "markdown",
   "metadata": {},
   "source": [
    "With a look at the list of the shapes (``Tools->Visibility or [Strg+Shift+V]``), we notice that the faces are not connected and the curves and the points are duplicated. This needs to be repaired, before the model can be simulated. Therefore, we create a valid *Gmsh* file. We open the `Tutorial_STEP.geo`-file in a text editor (e.g. notepad++ or Pycharm) and insert:\n",
    "```C++\n",
    "SetFactory(\"OpenCASCADE\");\n",
    "v() = ShapeFromFile(\"ModelName.stp\");\n",
    "BooleanFragments{ Surface{v()}; Delete; }{}\n",
    "```\n",
    "Here, ModelName denotes the name of the STEP file, i.e. ``Tutorial_STEP.stp``. In the next step, save this file as  \".geo\".\n",
    "Now, all the duplicated curves and points are removed. In most cases this is sufficient for creating a valid *Gmsh* file. However, in some cases two edges may not be exactly identical. Then, this procedure fails, and some edges need to be deleted manually. To check, if an edge is correctly defined, we hover over the edge in the *Gmsh* GUI. The boundary should be allocated to two surfaces like:\\\n",
    "\"On boundary of surfaces: x, y\"\\\n",
    "Here, *x* and *y* denote the corresponding numbers of the surfaces. If this is not the case, the model can be adjusted with:\n",
    "```C++\n",
    "Delete {Surface{SurfaceNumber};}\n",
    "Delete {Line{LineNumber};}\n",
    "Delete {Point{PointNumber};}\n",
    "Line Loop(LoopNumber) = {LineNumber};\n",
    "Plane Surface(SurfaceNumber) = {LoopNumber};\n",
    "```\n",
    "Here `SurfaceNumber, LineNumber, PointNumber` and `LoopNumber` denote the number of the corresponding shape. In the case that more than one shape needs to be deleted, this can be done by `{1,2,3,4}` or `{1:4}`. Note that an edge cannot be deleted, if it is still connected to a surface. Therefore, in order to delete an edge, first the surface needs to be deleted. Same holds for points and edges. \n",
    "\n",
    "In order to create a new surface, first a `Line Loop` has to be created, which contains all edges belonging to the new surface. These edges need to be ordered. It does not matter whether the order is clockwise or counterclockwise. Finally the new surface is defined via the `Line Loop`.\n",
    "__________________________________________"
   ]
  },
  {
   "cell_type": "markdown",
   "metadata": {},
   "source": [
    "Once the geometry is defined correctly, the `Physical Surfaces` for the definition of the material properties and the `Physical Line` for the definition of the boundary conditions are created:\n",
    "```C++\n",
    "    Physical Surface('MaterialName') = {SurfaceNumber};\n",
    "    Physical Line('LineName') = {LineNumber}\n",
    "```  \n",
    "In our example: \n",
    "```C++\n",
    "    Physical Surface('rotor') = {1};\n",
    "    Physical Surface('steel') = {2};\n",
    "    Physical Surface('stator') = {3};\n",
    "    Physical Line('external_temperature') = {5,6};\n",
    "```\n",
    "to the file. In this example, the surface belonging to the SurfaceNumber {1} gets added to the physical surface *rotor*. The lines with the LineNumber {5,6} the boundaries of the computational domain, where the external temperature is defined.\\\n",
    "Note: The numbering of the surface and the line can be checked in the *Gmsh* GUI with (`Tools->Visibility or [Strg+Shift+V]`)."
   ]
  },
  {
   "cell_type": "code",
   "execution_count": null,
   "metadata": {},
   "outputs": [],
   "source": [
    "# Our valid Gmsh file should now look like:\n",
    "import pandas as pd\n",
    "code_in_geofile=pd.read_fwf('Tutorial_STEP.geo') \n",
    "print(code_in_geofile)"
   ]
  },
  {
   "cell_type": "markdown",
   "metadata": {},
   "source": [
    "_________________________________________________\n",
    "\n",
    "An **alternative way** to generate a valid *Gmsh* file is to open the STEP file in teh *Gmsh* GUI and create a new `*.geo`-file via `Modules->Geometry->Elementary entities->Set geometry kernel-> OpenCASCADE\\`\n",
    "This creates:\n",
    "```C++\n",
    "    Merge \"Tutorial_STEP.stp\";\n",
    "    //+\n",
    "    SetFactory(\"OpenCASCADE\");\n",
    "```\n",
    "Here, the duplicated curves and points are not deleted.\\\n",
    "This is done as explained above with:\n",
    "```C++\n",
    "    Delete {Surface{1};}\n",
    "    Delete {Line{1:4};}\n",
    "    Delete {Point{1:4};}\n",
    "    //careful with the number of the Loop. It is not allowed to have curves with the same number\n",
    "    Line Loop(15) = {5,6}; \n",
    "    Line Loop(16) = {7,8};\n",
    "    Plane Surface(4) = {15,16};\n",
    "```\n",
    "Again, the `Physical Surface` and `Physical Line` are defined by:\n",
    "```C++\n",
    "    Physical Surface('rotor') = {4};\n",
    "    Physical Surface('steel') = {2};\n",
    "    Physical Surface('stator') = {3};\n",
    "    Physical Line('external_temperature') = {9,10};\n",
    "``` \n",
    "\n",
    "Note: One can see that the numeration of the surface and the line has changed in comparison to the other example. However, both files represent the same model."
   ]
  },
  {
   "cell_type": "code",
   "execution_count": null,
   "metadata": {},
   "outputs": [],
   "source": [
    "# This shows the code of another valid Gmsh file:\n",
    "import pandas as pd\n",
    "code_in_geofile=pd.read_fwf('Tutorial_STEP_2.geo') \n",
    "print(code_in_geofile)"
   ]
  },
  {
   "cell_type": "markdown",
   "metadata": {},
   "source": [
    "### B) Problem definition workflow\n",
    "\n",
    "After generating a valid *Gmsh* file, the geometry can be imported to **Pyrit**. Subsequently, we can model the simulation problem. In this tutorial example, a transient thermal problem is created, and a simple geometry of three concentric cylinders is considered. These three cylinder represent a simplified geometry of a motor with the domains \"steel\" (i.e. the shaft), \"rotor\" and \"stator\". The start temperature is 273.15K and the surrounding temperature will rise over time to 293.15K.\n",
    "\n",
    "The **Pyrit**-Python-file starts with the imports."
   ]
  },
  {
   "cell_type": "code",
   "execution_count": null,
   "metadata": {},
   "outputs": [],
   "source": [
    "import gmsh\n",
    "import numpy as np\n",
    "from matplotlib import pyplot as plt\n",
    "from dataclasses import dataclass\n",
    "\n",
    "from pyrit.excitation import Excitations\n",
    "from pyrit.material import Mat, Materials, ThermalConductivity, VolumetricHeatCapacity\n",
    "from pyrit.problem import ThermalProblemCartTransient\n",
    "\n",
    "from pyrit.region import Regions\n",
    "from pyrit.shapefunction import TriCartesianNodalShapeFunction\n",
    "from pyrit.bdrycond.BdryCond import BdryCond, BCDirichlet\n",
    "from pyrit.geometry.Geometry import Geometry\n",
    "from pyrit.mesh import TriMesh\n",
    "from pyrit.toolbox.ImportGmshToolbox import geo_to_msh, read_msh_file, read_physical_groups, generate_regions"
   ]
  },
  {
   "cell_type": "markdown",
   "metadata": {},
   "source": [
    "Next, the simulation settings and definitions are provided in a `dataclass`."
   ]
  },
  {
   "cell_type": "code",
   "execution_count": null,
   "metadata": {},
   "outputs": [],
   "source": [
    "@dataclass\n",
    "class Settings:\n",
    "    path_dir: str = ''                   #: in case the file is stored somewhere else\n",
    "    file_name: str = 'Tutorial_STEP.geo' #: name of geo-file\n",
    "    outfile_name: str = 'Tutorial_STEP'  #: name of geo-file\n",
    "    write_mesh: bool = True              #: Create new msh-file from geo-file\n",
    "    refinement_steps: int = 0            #: number of refinement steps\n",
    "    show_gui: bool = True                #: Show GMSH gui\n",
    "    mesh_size: float = 0.2               #: Meshsize (default=1)\n",
    "    kelvin: bool = False                 #: Temperature Unit (False=>degC)"
   ]
  },
  {
   "cell_type": "markdown",
   "metadata": {},
   "source": [
    "Additionally, a time dependent excitation function, i.e. the temperature rise is defined. In the simulation, this corresponds to a time-varying Dirichlet-type boundary condition. In our example, the temperature rises linearly from 273.15 K to 293.15 K."
   ]
  },
  {
   "cell_type": "code",
   "execution_count": null,
   "metadata": {},
   "outputs": [],
   "source": [
    "class Boundaryconditions:\n",
    "    \"\"\"Time dependent temperature class\"\"\"\n",
    "\n",
    "    def __init__(self, time=0):\n",
    "        self.time = time\n",
    "\n",
    "    def __call__(self, time=None):\n",
    "        if time is None:\n",
    "            time = self.time\n",
    "        return 273.15+20*time/12000 # An increase of the temperature over time in sec (Endtime: t_end=12000 s)."
   ]
  },
  {
   "cell_type": "markdown",
   "metadata": {},
   "source": [
    "In the class with the model name, all the important properties of the model are defined. These are the time steps, the materials, the boundary conditions, the mesh, the regions, the shapefunctions of the underlying finite element procedure, and the problem."
   ]
  },
  {
   "cell_type": "code",
   "execution_count": null,
   "metadata": {},
   "outputs": [],
   "source": [
    "class Tutorial_STEP_Model:\n",
    "    def __init__(self, t_end: float = 12000, number_of_time_steps: int = 100, settings: Settings = None):\n",
    "        if settings is None:\n",
    "            settings = Settings()\n",
    "        self.settings = settings\n",
    "        self._mesh: TriMesh = None\n",
    "        self._regions: Regions = None\n",
    "        self._materials: Materials = None\n",
    "        self._boundary_cond: BdryCond = None\n",
    "        self._sft: TriCartesianNodalShapeFunction = None\n",
    "\n",
    "        self.t_end = t_end\n",
    "        self.number_of_time_steps = number_of_time_steps\n",
    "        self._problem = None\n",
    "\n",
    "        self.temperature_start = np.ones((self.mesh.num_node,)) * 273.15\n",
    "\n",
    "    @property\n",
    "    def time_steps(self):\n",
    "        return np.linspace(0, self.t_end, self.number_of_time_steps)\n",
    "\n",
    "    @property\n",
    "    def materials(self):\n",
    "        if self._materials is None:\n",
    "            # Mat('name',ThermalConductivity(Lambda [W/(m*K)]), VolumetricHeatCapacity(Rho[Kg/m^3] * SpecificHeat[J/(kg*K)]))\n",
    "            rotor = Mat('rotor', ThermalConductivity(20), VolumetricHeatCapacity(7000 * 500))\n",
    "            stator = Mat('stator', ThermalConductivity(40), VolumetricHeatCapacity(7500 * 500))\n",
    "            steel = Mat('steel', ThermalConductivity(60), VolumetricHeatCapacity(8000 * 480))\n",
    "            self._materials = Materials(rotor, stator, steel)\n",
    "        return self._materials\n",
    "\n",
    "    @property\n",
    "    def boundary_cond(self):\n",
    "        if self._boundary_cond is None:\n",
    "            external_temperature = BCDirichlet(Boundaryconditions(), 'external_temperature')\n",
    "            self._boundary_cond = BdryCond(external_temperature)\n",
    "        return self._boundary_cond\n",
    "\n",
    "    @property\n",
    "    def mesh(self):\n",
    "        if self._mesh is None:\n",
    "            if self.settings.write_mesh:\n",
    "                msh_path = geo_to_msh(self.settings.file_name, refinement_steps=self.settings.refinement_steps,\n",
    "                                      show_gui=self.settings.show_gui, mesh_size_factor=self.settings.mesh_size)\n",
    "                msh = read_msh_file(msh_path, mesh_type=TriMesh)\n",
    "                msh.node = msh.node / 1000  # Convert mm to m\n",
    "                self._mesh = msh\n",
    "            else:\n",
    "                msh = read_msh_file(self.settings.file_name, mesh_type=TriMesh)\n",
    "                msh.node = msh.node / 1000  # Convert mm to m\n",
    "                self._mesh = msh\n",
    "        return self._mesh\n",
    "\n",
    "    @mesh.setter\n",
    "    def mesh(self, msh):\n",
    "        self._mesh = msh\n",
    "        self._sft = None\n",
    "\n",
    "    @property\n",
    "    def regions(self):\n",
    "        if self._regions is None:\n",
    "            self._regions = generate_regions(self.settings.file_name, self.materials, self.boundary_cond)\n",
    "        return self._regions\n",
    "\n",
    "    @property\n",
    "    def sft(self):\n",
    "        if self._sft is None:\n",
    "            self._sft = TriCartesianNodalShapeFunction(self.mesh)\n",
    "        return self._sft\n",
    "\n",
    "    @property\n",
    "    def problem(self) -> ThermalProblemCartTransient:\n",
    "        if self._problem is None:\n",
    "            self._problem = ThermalProblemCartTransient('tutorial_STEP_model', self.mesh, self.sft,\n",
    "                                                              self.regions, self.materials,\n",
    "                                                              self.boundary_cond, Excitations(),\n",
    "                                                              self.time_steps)\n",
    "        return self._problem\n",
    "\n"
   ]
  },
  {
   "cell_type": "markdown",
   "metadata": {},
   "source": [
    "In order to create the problem, the class is called by:"
   ]
  },
  {
   "cell_type": "code",
   "execution_count": null,
   "metadata": {},
   "outputs": [],
   "source": [
    "#Note: This should open GMSH and show the model with its mesh.\n",
    "model = Tutorial_STEP_Model()"
   ]
  },
  {
   "cell_type": "markdown",
   "metadata": {},
   "source": [
    "## Approach 2: Model definition based on Pyrit"
   ]
  },
  {
   "cell_type": "markdown",
   "metadata": {},
   "source": [
    "The second approach uses solely Pyrit through the *Gmsh* API. Thus, no extra files are necessary. \n",
    "\n",
    "We show this approach for a different model than the motor of approach 1. Now, we model a **torus shaped conductor** of copper in a **magnetostatic setting**. It is surrounded by large cylinder filled with air, i.e. the computational domain. Because of the symmetry, only one cut through the domain at one angle in cylindrical coordinates is created, i.e. we model the setup in the $\\rho-z$-plane. \n",
    "\n",
    "The model is represented by a dataclass that handles properties of the model, e.g. the geometrical parameters and material parameters. A dedicated method of the class creates the model. Inside of this method, the geometry is built, all data structures needed for further computation are generated and materials, boundary conditions and excitations arer assigned to the geometry. Finally, all that is combined in a specific problem class. \n",
    "\n",
    "In the following, the code is first shown and explained in smaller parts. After that, the whole code is summarized and executed for a simple example. "
   ]
  },
  {
   "cell_type": "markdown",
   "metadata": {},
   "source": [
    "### Head of the class\n",
    "The model is implemented as a Python dataclass in Python. The head of the class looks for example like in the following cell. \n",
    "Basic properties are provided firstly, i.e. the distances or the current through the conductor. The class can also be used to compute intermediate values, as for example the current density in the conductor. \n",
    "\n",
    "```python\n",
    "@dataclass\n",
    "class ConductorLoop:\n",
    "    width: float = 2.\n",
    "    height: float = 4.\n",
    "    center_conductor_x: float = 1.\n",
    "    center_conductor_y: float = 2.\n",
    "    radius_conductor: float = 0.2\n",
    "\n",
    "    current: float = 1.\n",
    "    conductivity: float = 1e6\n",
    "        \n",
    "    @property\n",
    "    def current_density(self) -> float:\n",
    "        \"\"\"The current density in the conductor\"\"\"\n",
    "        return self.current / (np.pi * self.radius_conductor ** 2)\n",
    "```"
   ]
  },
  {
   "cell_type": "markdown",
   "metadata": {},
   "source": [
    "### Method create_problem\n",
    "The dataclass contains at least a method like the following example to create the geometry. \n",
    "Here, with the argument ``refinement_steps``, the number of refinement steps in the meshing process is provdied. Furthermore, with ``kwargs`` key word arguments can be passed to the constructor of Geometry. This allows a high flexibility for later on. \n",
    "\n",
    "```python\n",
    "    def create_problem(self, refinement_steps: int = 0, **kwargs) -> MagneticProblemAxiStatic:\n",
    "        \"\"\"Create the problem.\n",
    "\n",
    "        Parameters\n",
    "        ----------\n",
    "        refinement_steps : int\n",
    "            Number of refinement steps in the meshing process.\n",
    "        kwargs :\n",
    "            Keyword arguments passed to the constructor of ``Geometry``\n",
    "\n",
    "        Returns\n",
    "        -------\n",
    "        problem : MagneticProblemAxiStatic\n",
    "            A problem instance\n",
    "        \"\"\"\n",
    "        geo = Geometry(model_name=\"Conductor Loop\", **kwargs)\n",
    "```"
   ]
  },
  {
   "cell_type": "markdown",
   "metadata": {},
   "source": [
    "#### Materials\n",
    "First, we define the materials, in our example air and copper. Each is an instance of ``Mat`` and holds a number of material properties. In this case, we define Reluctivity and Conductivity because this are the relevant properties for the magnetostatic problem. \n",
    "\n",
    "All materials are added to a ``Materials`` object, which manages all materials of a problem.\n",
    "\n",
    "```python\n",
    "        air = Mat('air', Reluctivity(nu_0), Conductivity(0))\n",
    "        copper = Mat('copper', Reluctivity(nu_0), Conductivity(self.conductivity))\n",
    "        materials = Materials(air, copper)\n",
    "```"
   ]
  },
  {
   "cell_type": "markdown",
   "metadata": {},
   "source": [
    "#### Boundary conditions\n",
    "Next, the boundary conditions are defined. Here, we only need homogeneous Dirichlet boundary conditions, which correspond to a vanishing normal magnetic flux density on the boundary. \n",
    "\n",
    "All boundary conditions (here only one) are added to a ``BdryCond`` object. This is responsible for managing all the different boundary conditions present in a problem.\n",
    "\n",
    "```python\n",
    "        outer_bc = BCDirichlet(0) # magnetic vector potential = 0 on the boundary\n",
    "        boundary_cond = BdryCond(outer_bc)\n",
    "```"
   ]
  },
  {
   "cell_type": "markdown",
   "metadata": {},
   "source": [
    "#### Excitations\n",
    "Furthermore, we define the excitations. In our case, it is a current density within the conductor. The property is used here to get the correct current density, since in the constructor only the radius and the total current are specified. \n",
    "\n",
    "Analogously to materials and boundary conditions, the excitations are added to an ``Excitations`` object that manages all excitations of a problem. \n",
    "\n",
    "```python\n",
    "        exci = CurrentDensity(self.current_density, 'cd')\n",
    "        excitations = Excitations(exci)\n",
    "```"
   ]
  },
  {
   "cell_type": "markdown",
   "metadata": {},
   "source": [
    "#### Physical groups and assignments\n",
    "For assigning materials, boundary conditions and excitations to parts of the geometry, a approach from *Gmsh* is used. The assignment does not directly use geometrical entities (lines or surfaces) but uses *physical groups*. A physical group is a collection of geometrical entities of the same dimension. Based on these, a material can be assigned easily to different areas of the geometry by collecting all these areas in one physical group. \n",
    "\n",
    "The physical groups are generated with the ``geo`` object, that is an instance of ``Geometry``. A unique tag and the dimension of the physical group are defined. A name is optional but advantageous. \n",
    "\n",
    "```python\n",
    "        pg_conductor = geo.create_physical_group(tag=1, dim=2, name=\"conductor\")\n",
    "        pg_surrounding = geo.create_physical_group(tag=2, dim=2, name=\"surrounding\")\n",
    "        pg_boundary = geo.create_physical_group(tag=3, dim=1, name=\"boundary\")\n",
    "```\n",
    "\n",
    "Now, the materials, the boundary condition, and the excitation are assigned to the physical group of the `` geo`` object\n",
    "\n",
    "```python\n",
    "        geo.add_material_to_physical_group(air, pg_surrounding)\n",
    "        geo.add_material_to_physical_group(copper, pg_conductor)\n",
    "        geo.add_boundary_condition_to_physical_group(outer_bc, pg_boundary)\n",
    "        geo.add_excitation_to_physical_group(exci, pg_conductor)\n",
    "```"
   ]
  },
  {
   "cell_type": "markdown",
   "metadata": {},
   "source": [
    "#### Geometry creation\n",
    "With the above definitions, we create the geometry using the ``geo`` object. It is a context manager that handles the initialization and shutdown of *Gmsh*. Inside of this context manager, all *Gmsh* commands can be used\n",
    "\n",
    "```python \n",
    "        with geo:\n",
    "            rectangle = gmsh.model.occ.addRectangle(0, 0, 0, self.width, self.height)\n",
    "            disk = gmsh.model.occ.addDisk(self.center_conductor_x, self.center_conductor_y, 0, self.radius_conductor,\n",
    "                                          self.radius_conductor)\n",
    "            gmsh.model.occ.cut([[2, rectangle]], [[2, disk]], removeTool=False)\n",
    "```"
   ]
  },
  {
   "cell_type": "markdown",
   "metadata": {},
   "source": [
    "#### Assignment of entities to physical groups\n",
    "Finally, we assign geometrical entities to the physical groups. Entities are represented by their tags. The tag can be seen in the GUI or via the API. In this example, the tags of the physical group representing the boundary conditions were retrieved from the GUI. It can be opened either with an option ``show_gui=True`` on the ``geo``-object or with the command ``geo.open_gui()``. \n",
    "\n",
    "```python\n",
    "            pg_conductor.add_entity(disk)\n",
    "            pg_boundary.add_entity(6, 8, 9)\n",
    "            pg_surrounding.add_entity(rectangle)\n",
    "```"
   ]
  },
  {
   "cell_type": "markdown",
   "metadata": {},
   "source": [
    "#### Mesh generation and extraction of the mesh and regions\n",
    "The description of the model is now complete. We now process the data structures required for the simulation process, i.e. the ``mesh`` and the ``regions``. \n",
    "\n",
    "For the mesh generation, the dimension is specified. After that, the mesh can be refined. The last step reads the mesh from *Gmsh*. Again, the dimension of the mesh has to be specified. \n",
    "The ``geo.get_mesh`` method returns in general a ``TriMesh`` (triangular mesh) or a ``TetMesh`` (tetrahedral mesh). Sonce we have a specified the dimension to 2, the returned mesh is a ``TriMesh``. \n",
    "\n",
    "When the problem is in axisymmetric coordinates, the ``TriMesh`` has to converted to an ``AxiMesh``. This is here the case. The conversion takes place in the last line of the following block. \n",
    "\n",
    "```python\n",
    "            geo.create_mesh(dim=2)\n",
    "            for _ in range(refinement_steps):\n",
    "                geo.refine_mesh()\n",
    "            mesh = geo.get_mesh(dim=2)\n",
    "            mesh = AxiMesh.generate_axi_mesh(mesh)\n",
    "```\n",
    "\n",
    "The regions can be generated as shown in the next code block. The ``region`` is the discretized counterpart of the ``pyhsical group``. Discrete geometrical entities (such as triangles or edges in the mesh) are assigned to a region. The regions, in turn, contain the information of materials, boundary conditions and excitations defined on itself. \n",
    "\n",
    "```python\n",
    "            regions = geo.get_regions()\n",
    "```"
   ]
  },
  {
   "cell_type": "markdown",
   "metadata": {},
   "source": [
    "#### Creation of the shape function object\n",
    "With the mesh, we create the shape function object that will later create the finite element matrices. This part does not need to be in the context manager any more. \n",
    "\n",
    "```python\n",
    "        shape_function = TriAxisymmetricEdgeShapeFunction(mesh)\n",
    "```"
   ]
  },
  {
   "cell_type": "markdown",
   "metadata": {},
   "source": [
    "#### Creation of the Problem\n",
    "We now have a lot of different objects that contain different information about our problem. The last step of this method is to combine them in one problem-class. So all data structures are tied together and further handling is simplified. \n",
    "\n",
    "In the next step, we initialize the magnetostatic problem in axisymmetric coordinates with the template-class ``MagneticProblemAxiStatic``. The constructor expects all of the created data structures. The problem object itself performs consistency and type checks to prevent faulty inputs. It also provides a ``solve``-method to solve the problem in a standardized way. Finally, the problem object is returned.\n",
    "\n",
    "```python\n",
    "        problem = MagneticProblemAxiStatic(\"Problem conductor loop\", mesh, shape_function, regions, \n",
    "                                           materials, boundary_cond, excitations)\n",
    "        return problem\n",
    "```"
   ]
  },
  {
   "cell_type": "markdown",
   "metadata": {},
   "source": [
    "### Summary\n",
    "The complete code to create the torus conductio with all necessary imports reads:"
   ]
  },
  {
   "cell_type": "code",
   "execution_count": null,
   "metadata": {},
   "outputs": [],
   "source": [
    "import gmsh\n",
    "import numpy as np\n",
    "from dataclasses import dataclass\n",
    "\n",
    "from scipy.constants import mu_0\n",
    "from pyrit.bdrycond import BCDirichlet, BdryCond\n",
    "from pyrit.geometry import Geometry\n",
    "from pyrit.material import Mat, Materials, Reluctivity, Conductivity\n",
    "from pyrit.excitation import Excitations, CurrentDensity\n",
    "from pyrit.mesh import AxiMesh\n",
    "from pyrit.shapefunction import TriAxisymmetricEdgeShapeFunction\n",
    "\n",
    "from pyrit.problem import MagneticProblemAxiStatic\n",
    "\n",
    "nu_0 = 1 / mu_0"
   ]
  },
  {
   "cell_type": "code",
   "execution_count": null,
   "metadata": {},
   "outputs": [],
   "source": [
    "@dataclass\n",
    "class ConductorLoop:\n",
    "    width: float = 2.\n",
    "    height: float = 4.\n",
    "    center_conductor_x: float = 1.\n",
    "    center_conductor_y: float = 2.\n",
    "    radius_conductor: float = 0.2\n",
    "\n",
    "    current: float = 1.\n",
    "    conductivity: float = 1e6\n",
    "\n",
    "    @property\n",
    "    def current_density(self) -> float:\n",
    "        \"\"\"The current density in the conductor\"\"\"\n",
    "        return self.current / (np.pi * self.radius_conductor ** 2)\n",
    "\n",
    "    def create_problem(self, refinement_steps: int = 0, **kwargs) -> MagneticProblemAxiStatic:\n",
    "        \"\"\"Create the problem.\n",
    "\n",
    "        Parameters\n",
    "        ----------\n",
    "        refinement_steps : int\n",
    "            Number of refinement steps in the meshing process.\n",
    "        kwargs :\n",
    "            Keyword arguments passed to the constructor of ``Geometry``\n",
    "\n",
    "        Returns\n",
    "        -------\n",
    "        problem : MagneticProblemAxiStatic\n",
    "            A problem instance\n",
    "        \"\"\"\n",
    "        geo = Geometry(model_name=\"Test MagneticProblem\", **kwargs)\n",
    "\n",
    "        # Materials\n",
    "        air = Mat('air', Reluctivity(nu_0), Conductivity(0))\n",
    "        copper = Mat('copper', Reluctivity(nu_0), Conductivity(self.conductivity))\n",
    "        materials = Materials(air, copper)\n",
    "\n",
    "        # Boundary conditions\n",
    "        outer_bc = BCDirichlet(0)\n",
    "        boundary_cond = BdryCond(outer_bc)\n",
    "\n",
    "        # Excitation\n",
    "        exci = CurrentDensity(self.current_density, 'cd')\n",
    "        excitations = Excitations(exci)\n",
    "\n",
    "        # Creating physical groups\n",
    "        pg_conductor = geo.create_physical_group(tag=1, dim=2, name=\"conductor\")\n",
    "        pg_surrounding = geo.create_physical_group(tag=2, dim=2, name=\"surrounding\")\n",
    "        pg_boundary = geo.create_physical_group(tag=3, dim=1, name=\"boundary\")\n",
    "\n",
    "        # Assignment of physical groups to materials, boundary conditions and excitations\n",
    "        geo.add_material_to_physical_group(air, pg_surrounding)\n",
    "        geo.add_material_to_physical_group(copper, pg_conductor)\n",
    "        geo.add_boundary_condition_to_physical_group(outer_bc, pg_boundary)\n",
    "        geo.add_excitation_to_physical_group(exci, pg_conductor)\n",
    "\n",
    "        # Build geometry\n",
    "        with geo:\n",
    "            rectangle = gmsh.model.occ.addRectangle(0, 0, 0, self.width, self.height)\n",
    "            disk = gmsh.model.occ.addDisk(self.center_conductor_x, self.center_conductor_y, 0, self.radius_conductor,\n",
    "                                          self.radius_conductor)\n",
    "            gmsh.model.occ.cut([[2, rectangle]], [[2, disk]], removeTool=False)\n",
    "\n",
    "            pg_conductor.add_entity(disk)\n",
    "            pg_boundary.add_entity(6, 8, 9)\n",
    "            pg_surrounding.add_entity(rectangle)\n",
    "\n",
    "            # Create mesh\n",
    "            geo.create_mesh(dim=2)\n",
    "            for _ in range(refinement_steps):\n",
    "                geo.refine_mesh()\n",
    "            mesh = geo.get_mesh(dim=2)\n",
    "            mesh = AxiMesh.generate_axi_mesh(mesh)\n",
    "            \n",
    "            # Create regions\n",
    "            regions = geo.get_regions()\n",
    "\n",
    "        # Create shape function object\n",
    "        shape_function = TriAxisymmetricEdgeShapeFunction(mesh)\n",
    "\n",
    "        problem = MagneticProblemAxiStatic(\"Problem conductor loop\", mesh, shape_function, \n",
    "                                           regions, materials, boundary_cond, excitations)\n",
    "        return problem"
   ]
  },
  {
   "cell_type": "markdown",
   "metadata": {},
   "source": [
    "### Execution of code\n",
    "Copy the given code given for example in a separate python file to define the model. Create the geometry with the following commands. Because we used a dataclass for ``ConductorLoop``, it is very simple to modify the the geometry or the add new variables to the geometry. The mesh size can also easily be set using the ``kwargs`` of the ``create_problem``-method. \n",
    "\n",
    "Exemplary, the current through the conductor and the conductors radius are customized here, as well as the mesh. Furthermore, the GUI of gmsh can be set to open after geometry creation."
   ]
  },
  {
   "cell_type": "code",
   "execution_count": null,
   "metadata": {},
   "outputs": [],
   "source": [
    "conductor_loop = ConductorLoop(current=4, radius_conductor=0.1)\n",
    "problem = conductor_loop.create_problem(mesh_size_factor = 0.3, refinement_steps=2, show_gui=True)\n",
    "print(problem)"
   ]
  },
  {
   "cell_type": "markdown",
   "metadata": {},
   "source": [
    "## Approach 3: Model definition based on geo-file\n",
    "The third approach uses an existing *Gmsh* file (.geo file) with already defined physical groups. \n",
    "\n",
    "This approach is demonstrated by modelling a simple cylindrical resistor. The cylindrical resistor consists of two layered materials, which are located between two electrodes to which a voltage of $V =1 $V is applied. The conductivity of the inner material is 2 S/m. Due to the axial symmetry of this configuration, it is sufficient to model a cut of the model in the $\\rho-z$ plane.\n",
    "\n",
    "In the following, it is assumed that the model is given as a .geo file. The following command opens the file in the *Gmsh* GUI:"
   ]
  },
  {
   "cell_type": "code",
   "execution_count": null,
   "metadata": {},
   "outputs": [],
   "source": [
    "from pyrit.geometry import Geometry\n",
    "import gmsh\n",
    "geo = Geometry(\"\",show_gui=True)\n",
    "with geo:\n",
    "    gmsh.merge('Tutorial_GEO.geo')"
   ]
  },
  {
   "cell_type": "markdown",
   "metadata": {},
   "source": [
    "With ``Tools->Visibility or [Strg+Shift+V]`` we can take a look at the physical groups of the model. We can see that the model has four physical groups: The physical groups INNER_MATERIAL and OUTER_MATERIAL are allocated on surfaces and represent the two materials of the model. The physical groups GROUND and VOLTAGE are located on curves and indicate the position of the boundary conditions that are needed to apply the excitation voltage. \n",
    "\n",
    "Similar to approach 2, the model is represented in *Pyrit* by a dataclass that handles the properties of the model, e.g. the applied voltage and material parameters. A dedicated method ``create_problem`` of the class creates an instance of a specific problem class, in which all data structures needed to define the model are combined. \n",
    "\n",
    "In the following, the code is first shown and explained in smaller parts. Then, the code is summarized and executed for a simple example."
   ]
  },
  {
   "cell_type": "markdown",
   "metadata": {},
   "source": [
    "### Head of the class\n",
    "The model is implemented as a Python dataclass in Python. The head of the class looks for example like in the following cell. \n",
    "Basic properties are provided firstly, i.e. the conductivities of the materials and the potentials at the electrodes. Secondly, the path to the .geo file is provided. \n",
    "\n",
    "```python\n",
    "@dataclass\n",
    "class CylindricalResistor:\n",
    "    # Model parameters\n",
    "    conductivity_inner: float = 2  # [S/m]\n",
    "    conductivity_outer: float = 1  # [S/m]\n",
    "    ground_potential: float = 0  # [V]\n",
    "    excitation_voltage: float = 1  # [V]\n",
    "\n",
    "    # Parameters for geometry import from gmsh\n",
    "    path_to_geo_file: Union[str, 'Path'] = 'Tutorial_GEO'\n",
    "```"
   ]
  },
  {
   "cell_type": "markdown",
   "metadata": {},
   "source": [
    "### Method create_problem\n",
    "The dataclass contains a method ``create_problem`` to create the problem. Inside of this method, the materials and boundary conditions are defined and connected to the geometry of the model. Subsequently, all data structures needed to define the problem are combined in an instance of a specific problem class. The argument ``refinement_steps`` provides the number of refinement steps during the meshing process, ``show_gui`` determines whether the mesh is opened in the *Gmsh* GUI. \n",
    "\n",
    "```python\n",
    "    def create_problem(self, refinement_steps: int = 0, show_gui: bool = False) -> CurrentFlowProblemAxiStatic:\n",
    "        \"\"\"Create the problem.\n",
    "\n",
    "        Parameters\n",
    "        ----------\n",
    "        refinement_steps : int\n",
    "            Number of refinement steps in the meshing process.\n",
    "        show_gui: bool\n",
    "            Open the GMSH GUI?\n",
    "\n",
    "        Returns\n",
    "        -------\n",
    "        problem : CurrentFlowProblemAxiStatic\n",
    "            A problem instance\n",
    "        \"\"\"\n",
    "```"
   ]
  },
  {
   "cell_type": "markdown",
   "metadata": {},
   "source": [
    "#### Materials\n",
    "First, we define the materials. Each is an instance of ``Mat`` and holds a number of material properties. In our example, we define the electric conductivity as it is the relevant property for a stationary current simulation. In order for *Pyrit* to later link the materials to the mesh, it is essential that the names of the materials match the names of the physical groups defined in the .geo file. Therefore, in this example, the materials must be called INNER_MATERIAL and OUTER_MATERIAL, respectively.\n",
    "\n",
    "The two materials are added to a ``Materials`` object, which manages all materials of a problem.\n",
    "\n",
    "```python\n",
    "        inner_material = Mat('INNER_MATERIAL', Conductivity(self.conductivity_inner))\n",
    "        outer_material = Mat('OUTER_MATERIAL', Conductivity(self.conductivity_outer))\n",
    "        materials = Materials(inner_material, outer_material)\n",
    "```"
   ]
  },
  {
   "cell_type": "markdown",
   "metadata": {},
   "source": [
    "#### Boundary conditions\n",
    "Next, the boundary conditions are defined. In order to apply the voltage $V$ to the model, two Dirichlet boundary conditions are defined. The first defines the ground potential at the inner electrode, the second applies the excitation voltage to the outer electrode. Similar to the material definition, it is crucial that the names of the boundary conditions match the names of the physical groups in the .geo file.\n",
    "\n",
    "The boundary conditions are added to a ``BdryCond`` object. This is responsible for managing all the different boundary conditions present in a problem.\n",
    "\n",
    "```python\n",
    "        bc_ground = BCDirichlet(self.ground_potential, name=\"GROUND\")\n",
    "        bc_voltage = BCDirichlet(self.excitation_voltage, name=\"VOLTAGE\")\n",
    "        boundary_cond = BdryCond(bc_ground, bc_voltage)\n",
    "```"
   ]
  },
  {
   "cell_type": "markdown",
   "metadata": {},
   "source": [
    "#### Mesh generation\n",
    "For the mesh generation, the method ``geo_to_msh`` creates a .msh file and returns its file path. Its input parameters are the path to the .geo file and the number of refinement steps. The .msh file is then read by the  method ``read_msh_file`` and a ``Mesh`` object is generated. Since the problem is axisymmetric, the output type is set to ``AxiMesh``.\n",
    "\n",
    "```python\n",
    "        path_to_msh_file = geo_to_msh(self.path_to_geo_file, refinement_steps=refinement_steps)\n",
    "        mesh = read_msh_file(path_to_msh_file, mesh_type=AxiMesh)\n",
    "```"
   ]
  },
  {
   "cell_type": "markdown",
   "metadata": {},
   "source": [
    "#### Regions generation\n",
    "In the next step, the material properties and boundary conditions are assigned to the geometry. A region maps the physical properties to corresponding mesh entities (such as triangles or edges). This is done by the method ``generate_regions``, which automatically connects materials and boundary conditions to mesh entities belonging to physical groups with the same name. This is the reason why it is crucial to choose the names of the materials and boundary conditions as specified in the .geo file.\n",
    " \n",
    "```python\n",
    "        regions = generate_regions(self.path_to_msh_file, materials, boundary_cond)\n",
    "```"
   ]
  },
  {
   "cell_type": "markdown",
   "metadata": {},
   "source": [
    "#### Creation of the shape function object\n",
    "With the mesh, we create the shape function object that will later create the finite element matrices. \n",
    "\n",
    "```python\n",
    "        shape_function = TriAxisymmetricNodalShapeFunction(mesh)\n",
    "```"
   ]
  },
  {
   "cell_type": "markdown",
   "metadata": {},
   "source": [
    "#### Creation of the Problem\n",
    "We now have a lot of different objects that contain different information about our problem. The last step of this method is to combine them in one problem-class. So all data structures are tied together and further handling is simplified. \n",
    "\n",
    "In the next step, we initialize the stationary current problem in axisymmetric coordinates with the template-class ``CurrentFlowProblemAxiStatic``. The constructor expects all of the created data structures. The problem object itself performs consistency and type checks to prevent faulty inputs. It also provides a ``solve``-method to solve the problem in a standardized way. Finally, the problem object is returned.\n",
    "\n",
    "```python\n",
    "        problem = CurrentFlowProblemAxiStatic(\"Cylindrical Resistor\", mesh, shape_function, regions, \n",
    "                                           materials, boundary_cond, excitations)\n",
    "        return problem\n",
    "```"
   ]
  },
  {
   "cell_type": "markdown",
   "metadata": {},
   "source": [
    "### Summary\n",
    "The complete code to create the cylindrical resistor with all necessary imports reads:"
   ]
  },
  {
   "cell_type": "code",
   "execution_count": 1,
   "metadata": {},
   "outputs": [],
   "source": [
    "from dataclasses import dataclass\n",
    "from typing import Union\n",
    "from pathlib import Path\n",
    "\n",
    "from pyrit.material import Mat, Materials, Conductivity\n",
    "from pyrit.bdrycond import BdryCond, BCDirichlet\n",
    "from pyrit.toolbox.ImportGmshToolbox import geo_to_msh, read_msh_file, generate_regions\n",
    "from pyrit.mesh import AxiMesh\n",
    "from pyrit.shapefunction import TriAxisymmetricNodalShapeFunction\n",
    "from pyrit.problem import CurrentFlowProblemAxiStatic\n"
   ]
  },
  {
   "cell_type": "code",
   "execution_count": 2,
   "metadata": {},
   "outputs": [],
   "source": [
    "@dataclass\n",
    "class CylindricalResistor:\n",
    "    # Model parameters\n",
    "    conductivity_inner: float = 1  # [S/m]\n",
    "    conductivity_outer: float = 2  # [S/m]\n",
    "    ground_potential: float = 0  # [V]\n",
    "    excitation_voltage: float = 1  # [V]\n",
    "\n",
    "    # Parameters for geometry import from gmsh\n",
    "    path_to_geo_file: Union[str, 'Path'] = 'Tutorial_GEO'\n",
    "        \n",
    "    def create_problem(self, refinement_steps: int = 0, show_gui: bool = False) -> CurrentFlowProblemAxiStatic:\n",
    "        \"\"\"Create the problem.\n",
    "\n",
    "        Parameters\n",
    "        ----------\n",
    "        refinement_steps : int\n",
    "            Number of refinement steps in the meshing process.\n",
    "        show_gui: bool\n",
    "            Open the GMSH GUI?\n",
    "\n",
    "        Returns\n",
    "        -------\n",
    "        problem : CurrentFlowProblemAxiStatic\n",
    "            A problem instance\n",
    "        \"\"\"\n",
    "        \n",
    "        # Materials\n",
    "        inner_material = Mat('INNER_MATERIAL', Conductivity(self.conductivity_inner))\n",
    "        outer_material = Mat('OUTER_MATERIAL', Conductivity(self.conductivity_outer))\n",
    "        materials = Materials(inner_material, outer_material)\n",
    "        \n",
    "        # Boundary conditions\n",
    "        bc_ground = BCDirichlet(self.ground_potential, name=\"GROUND\")\n",
    "        bc_voltage = BCDirichlet(self.excitation_voltage, name=\"VOLTAGE\")\n",
    "        boundary_cond = BdryCond(bc_ground, bc_voltage)\n",
    "        \n",
    "        # Mesh \n",
    "        path_to_msh_file = geo_to_msh(self.path_to_geo_file, refinement_steps=refinement_steps, show_gui=show_gui)\n",
    "        mesh = read_msh_file(path_to_msh_file, mesh_type=AxiMesh)\n",
    "        \n",
    "        # Regions\n",
    "        regions = generate_regions(path_to_msh_file, materials, boundary_cond)\n",
    "        \n",
    "        # Shape functions\n",
    "        shape_function = TriAxisymmetricNodalShapeFunction(mesh)\n",
    "        \n",
    "        # Problem \n",
    "        problem = CurrentFlowProblemAxiStatic(\"Cylindrical Resistor\", mesh, shape_function, regions, \n",
    "                                           materials, boundary_cond)\n",
    "        return problem"
   ]
  },
  {
   "cell_type": "markdown",
   "metadata": {},
   "source": [
    "### Execution of code\n",
    "To create the model, we first create an instance of the CylindricalResistor class. Since CylindricalResistor is implemented as a dataclass, it is very simple to modify the model paramters. The parameters can either be set directly during initialization or later using the dot notation. Exemplarily, the conductivities of the materials are customized here. Once all parameters are set to the desired value, the problem can be created using the ``create_problem``-method. \n"
   ]
  },
  {
   "cell_type": "code",
   "execution_count": 3,
   "metadata": {},
   "outputs": [
    {
     "ename": "AttributeError",
     "evalue": "'CylindricalResistor' object has no attribute 'path_to_msh_file'",
     "output_type": "error",
     "traceback": [
      "\u001b[1;31m---------------------------------------------------------------------------\u001b[0m",
      "\u001b[1;31mAttributeError\u001b[0m                            Traceback (most recent call last)",
      "Cell \u001b[1;32mIn [3], line 3\u001b[0m\n\u001b[0;32m      1\u001b[0m cylindrical_resistor \u001b[38;5;241m=\u001b[39m CylindricalResistor(conductivity_inner \u001b[38;5;241m=\u001b[39m \u001b[38;5;241m4\u001b[39m)\n\u001b[0;32m      2\u001b[0m cylindrical_resistor\u001b[38;5;241m.\u001b[39mconductivity_outer \u001b[38;5;241m=\u001b[39m \u001b[38;5;241m3\u001b[39m\n\u001b[1;32m----> 3\u001b[0m problem \u001b[38;5;241m=\u001b[39m \u001b[43mcylindrical_resistor\u001b[49m\u001b[38;5;241;43m.\u001b[39;49m\u001b[43mcreate_problem\u001b[49m\u001b[43m(\u001b[49m\u001b[43mrefinement_steps\u001b[49m\u001b[38;5;241;43m=\u001b[39;49m\u001b[38;5;241;43m1\u001b[39;49m\u001b[43m,\u001b[49m\u001b[43m \u001b[49m\u001b[43mshow_gui\u001b[49m\u001b[38;5;241;43m=\u001b[39;49m\u001b[38;5;28;43;01mTrue\u001b[39;49;00m\u001b[43m)\u001b[49m\n\u001b[0;32m      4\u001b[0m \u001b[38;5;28mprint\u001b[39m(problem)\n",
      "Cell \u001b[1;32mIn [2], line 43\u001b[0m, in \u001b[0;36mCylindricalResistor.create_problem\u001b[1;34m(self, refinement_steps, show_gui)\u001b[0m\n\u001b[0;32m     40\u001b[0m mesh \u001b[38;5;241m=\u001b[39m read_msh_file(path_to_msh_file, mesh_type\u001b[38;5;241m=\u001b[39mAxiMesh)\n\u001b[0;32m     42\u001b[0m \u001b[38;5;66;03m# Regions\u001b[39;00m\n\u001b[1;32m---> 43\u001b[0m regions \u001b[38;5;241m=\u001b[39m generate_regions(\u001b[38;5;28;43mself\u001b[39;49m\u001b[38;5;241;43m.\u001b[39;49m\u001b[43mpath_to_msh_file\u001b[49m, materials, boundary_cond)\n\u001b[0;32m     45\u001b[0m \u001b[38;5;66;03m# Shape functions\u001b[39;00m\n\u001b[0;32m     46\u001b[0m shape_function \u001b[38;5;241m=\u001b[39m TriAxisymmetricNodalShapeFunction(mesh)\n",
      "\u001b[1;31mAttributeError\u001b[0m: 'CylindricalResistor' object has no attribute 'path_to_msh_file'"
     ]
    }
   ],
   "source": [
    "cylindrical_resistor = CylindricalResistor(conductivity_inner = 4)\n",
    "cylindrical_resistor.conductivity_outer = 3\n",
    "problem = cylindrical_resistor.create_problem(refinement_steps=1, show_gui=True)\n",
    "print(problem)"
   ]
  },
  {
   "cell_type": "code",
   "execution_count": null,
   "metadata": {},
   "outputs": [],
   "source": []
  }
 ],
 "metadata": {
  "kernelspec": {
   "display_name": "Python 3 (ipykernel)",
   "language": "python",
   "name": "python3"
  },
  "language_info": {
   "codemirror_mode": {
    "name": "ipython",
    "version": 3
   },
   "file_extension": ".py",
   "mimetype": "text/x-python",
   "name": "python",
   "nbconvert_exporter": "python",
   "pygments_lexer": "ipython3",
   "version": "3.8.13"
  },
  "vscode": {
   "interpreter": {
    "hash": "4b70a062730914a62414c125504e9c863a7be19b02460edf6edefaaff478885e"
   }
  }
 },
 "nbformat": 4,
 "nbformat_minor": 2
}
